{
 "cells": [
  {
   "cell_type": "markdown",
   "id": "8fdd796f",
   "metadata": {},
   "source": [
    " <center>\n",
    "    <h1 style= \"background-color:orange; color:black; font-size:30px; font-weight:bold; font-family:Time New Roman; boder:2px solid black;\">Text to Speach converter using Python </h1>\n",
    "    </center>\n"
   ]
  },
  {
   "cell_type": "markdown",
   "id": "417e8d89",
   "metadata": {},
   "source": [
    "install pyttsx3 module \n",
    "\n",
    "pip install pyttsx3\n"
   ]
  },
  {
   "cell_type": "code",
   "execution_count": 2,
   "id": "61d6b114",
   "metadata": {},
   "outputs": [
    {
     "name": "stdout",
     "output_type": "stream",
     "text": [
      "what you want to convert speechhello i am learning python \n"
     ]
    }
   ],
   "source": [
    "#pip install pyttsx3\n",
    "\n",
    "\n",
    "# import the pyttsx3\n",
    "import pyttsx3\n",
    "\n",
    "text_speech = pyttsx3.init()    # create a variable and initialize the function\n",
    "\n",
    "answer = input(\"what you want to convert in speech:\")  # take a user input for the text to speach convert\n",
    "\n",
    "text_speech.say(answer) # here we are convert our text to speach\n",
    "\n",
    "text_speech.runAndWait()   # this function read a code and convert into speach"
   ]
  },
  {
   "cell_type": "code",
   "execution_count": null,
   "id": "6e1b2ab0",
   "metadata": {},
   "outputs": [],
   "source": []
  }
 ],
 "metadata": {
  "kernelspec": {
   "display_name": "Python 3 (ipykernel)",
   "language": "python",
   "name": "python3"
  },
  "language_info": {
   "codemirror_mode": {
    "name": "ipython",
    "version": 3
   },
   "file_extension": ".py",
   "mimetype": "text/x-python",
   "name": "python",
   "nbconvert_exporter": "python",
   "pygments_lexer": "ipython3",
   "version": "3.9.13"
  }
 },
 "nbformat": 4,
 "nbformat_minor": 5
}
